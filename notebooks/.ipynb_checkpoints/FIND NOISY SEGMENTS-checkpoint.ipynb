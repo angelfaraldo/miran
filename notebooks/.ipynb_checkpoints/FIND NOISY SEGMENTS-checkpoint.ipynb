{
 "cells": [
  {
   "cell_type": "code",
   "execution_count": 2,
   "metadata": {
    "collapsed": true
   },
   "outputs": [],
   "source": [
    "import madmom as mmm\n",
    "from miran import *\n",
    "from subprocess import call\n",
    "from matplotlib import pyplot as plt"
   ]
  },
  {
   "cell_type": "code",
   "execution_count": null,
   "metadata": {
    "collapsed": true,
    "scrolled": true
   },
   "outputs": [],
   "source": [
    "sa_path = '/Users/angel/Git/miran/scripts/sonic-annotator'\n",
    "ff = folderfiles('/Users/angel/Desktop/splits/', ext='.mp3')\n",
    "\n",
    "# INIT PLACEHOLDERS\n",
    "idx = 0\n",
    "\n",
    "filenames = []\n",
    "harmonicity_means = []\n",
    "harmonicity_std   = []\n",
    "\n",
    "for f in ff:\n",
    "    if any(soundfile_type in f for soundfile_type in AUDIO_FILE_EXTENSIONS):\n",
    "        \n",
    "        fname, fext = os.path.splitext(f)\n",
    "        fdir, fname = os.path.split(fname)\n",
    "        fname = os.path.join(fdir, str(idx))\n",
    "        f2 = fname + fext\n",
    "        os.rename(f, f2)\n",
    "        \n",
    "        call('{0}/sonic-annotator -r -t {0}/harmonicity.n3 -w csv --csv-force \"{1}\"'.format(sa_path, f2), shell=True)\n",
    "        harmonicity = pd.read_csv(os.path.splitext(f2)[0] + '_vamp_vamp-libxtract_spectral_inharmonicity_spectral_inharmonicity.csv', header=None)\n",
    "        harmonicity_means.append(harmonicity.mean()[1])\n",
    "        harmonicity_std.append(harmonicity.std()[1])\n",
    "        filenames.append(os.path.split(f)[1])\n",
    "\n",
    "        print(\"{}: {} ({})\".format(f, harmonicity.mean()[1], harmonicity.std()[1]))\n",
    "        \n",
    "        os.rename(f2, f)\n",
    "        os.remove(os.path.splitext(f2)[0] + '_vamp_vamp-libxtract_spectral_inharmonicity_spectral_inharmonicity.csv')\n",
    "        \n",
    "        idx += 1\n",
    "\n",
    "# CREATE A PD DATAFRAME WITH THE RESULTS, AND SAVE IT TO DISK\n",
    "output_df = pd.DataFrame()        \n",
    "output_df['names'] = filenames\n",
    "output_df['harmean'] = harmonicity_means\n",
    "output_df['harstd'] = harmonicity_std\n",
    "\n",
    "df_to_excel(output_df, '/Users/angel/Desktop/harmonicity')"
   ]
  },
  {
   "cell_type": "code",
   "execution_count": null,
   "metadata": {
    "collapsed": true
   },
   "outputs": [],
   "source": [
    "output_df.sort_values('harmean').names"
   ]
  }
 ],
 "metadata": {
  "kernelspec": {
   "display_name": "Python 2",
   "language": "python",
   "name": "python2"
  },
  "language_info": {
   "codemirror_mode": {
    "name": "ipython",
    "version": 2
   },
   "file_extension": ".py",
   "mimetype": "text/x-python",
   "name": "python",
   "nbconvert_exporter": "python",
   "pygments_lexer": "ipython2",
   "version": "2.7.14"
  }
 },
 "nbformat": 4,
 "nbformat_minor": 2
}
