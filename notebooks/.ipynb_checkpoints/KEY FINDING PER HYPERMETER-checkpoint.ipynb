{
 "cells": [
  {
   "cell_type": "code",
   "execution_count": 4,
   "metadata": {
    "collapsed": true,
    "scrolled": false
   },
   "outputs": [],
   "source": [
    "from __future__ import print_function\n",
    "import madmom as mmm\n",
    "from miran import *\n",
    "from subprocess import call\n",
    "from time import clock"
   ]
  },
  {
   "cell_type": "code",
   "execution_count": 15,
   "metadata": {
    "scrolled": true
   },
   "outputs": [
    {
     "name": "stdout",
     "output_type": "stream",
     "text": [
      "Analysing /Users/angel/Desktop/x.wav in 17276.42435 seconds.\n"
     ]
    }
   ],
   "source": [
    "# ANALYSIS PATHS\n",
    "sa_path = '/Users/angel/Git/miran/scripts/sonic-annotator'\n",
    "ff = folderfiles('/Users/angel/Desktop', ext='.wav')\n",
    "\n",
    "idx = 0\n",
    "beat_tracker = mmm.features.beats.DBNDownBeatTrackingProcessor(beats_per_bar=16, fps=100, downbeats=True)\n",
    "\n",
    "for f in ff:\n",
    "    if any(soundfile_type in f for soundfile_type in AUDIO_FILE_EXTENSIONS):\n",
    "        \n",
    "        clock()\n",
    "        print(\"Analysing {}\".format(f), end='')\n",
    "        \n",
    "        # TEMPORARILY RENAME FILE TO AVOID ILEGAL CHARACTERS.\n",
    "        fname, fext = os.path.splitext(f)\n",
    "        fdir, fname = os.path.split(fname)\n",
    "        fname = os.path.join(fdir, str(idx))\n",
    "        f2 = fname + fext\n",
    "        os.rename(f, f2)\n",
    "\n",
    "        # INIT PLACEHOLDERS\n",
    "        output_df = pd.DataFrame()\n",
    "        harmonicity_means = [np.nan]\n",
    "        harmonicity_std   = [np.nan]\n",
    "        key1              = [np.nan]\n",
    "        corr1             = [np.nan]\n",
    "        key2              = [np.nan]\n",
    "        corr2             = [np.nan]\n",
    "        confidence        = [np.nan]\n",
    "\n",
    "        # DOWNBEAT COMPUTATION\n",
    "        beat_activations = mmm.features.beats.RNNDownBeatProcessor()(f2)\n",
    "        downbeat_positions = beat_tracker(beat_activations)\n",
    "        \n",
    "        # VAMP-PLUGIN ANALYSIS\n",
    "        call('{0}/sonic-annotator -r -t {0}/nnls.n3 -t {0}/harmonicity.n3 -w csv --csv-force \"{1}\"'.format(sa_path, f2), shell=True)\n",
    "        harmonicity = pd.read_csv(os.path.splitext(f2)[0] + '_vamp_vamp-libxtract_spectral_inharmonicity_spectral_inharmonicity.csv', header=None)\n",
    "        nnls = pd.read_csv(os.path.splitext(f2)[0] + '_vamp_nnls-chroma_nnls-chroma_chroma.csv', header=None)\n",
    "        \n",
    "        # ADD ZERO POSTION\n",
    "        if 0 not in downbeat_positions:\n",
    "            downbeat_positions = np.append(downbeat_positions, 0.00)\n",
    "            downbeat_positions = np.roll(downbeat_positions, 1)\n",
    "\n",
    "        # MAKE CALCULATION BASED ON HYPERMETRICAL DIVISIONS\n",
    "        for position in range(len(downbeat_positions) - 1):\n",
    "            temp = harmonicity[harmonicity[0] >= downbeat_positions[position]]\n",
    "            temp = harmonicity[harmonicity[0] <  downbeat_positions[position + 1]]\n",
    "            harmonicity_means.append(temp.mean()[1])\n",
    "            harmonicity_std.append(temp.std()[1])\n",
    "            temp = nnls[nnls[0] >= downbeat_positions[position]]\n",
    "            temp = nnls[nnls[0] <  downbeat_positions[position + 1]]\n",
    "            key_estimate = estimate_key(np.roll(temp.drop(0,1).mean(), -3), \n",
    "                                        profile_type='temperley99',\n",
    "                                        interpolation='linear',\n",
    "                                        candidates=2,\n",
    "                                        conf_thres=0,\n",
    "                                        vocabulary=2)\n",
    "            key1.append(key_estimate[1][0])\n",
    "            key2.append(key_estimate[1][1])\n",
    "            corr1.append(key_estimate[2][0])\n",
    "            corr2.append(key_estimate[2][1])\n",
    "            confidence.append(key_estimate[3])\n",
    "            \n",
    "        # SAVE ALL RESULTS PER HYPERMEASURE TO PD DATAFRAME.\n",
    "        output_df['downbeats']  = downbeat_positions\n",
    "        output_df['harm_mu']    = np.roll(harmonicity_means, -1)\n",
    "        output_df['harm_std']   = np.roll(harmonicity_std, -1)\n",
    "        output_df['key1']       = np.roll(key1, -1)\n",
    "        output_df['corr1']      = np.roll(corr1, -1)\n",
    "        output_df['key2']       = np.roll(key2, -1)\n",
    "        output_df['corr2']      = np.roll(corr2, -1)\n",
    "        output_df['confidence'] = np.roll(confidence, -1)\n",
    "        \n",
    "        print(\" in {} seconds.\".format(clock()))\n",
    "        \n",
    "        # REMOVE INTERMEDIATE FILES AND RENAME WITH ORIGINAL NAME\n",
    "        os.remove(os.path.splitext(f2)[0] + '_vamp_nnls-chroma_nnls-chroma_chroma.csv')\n",
    "        os.remove(os.path.splitext(f2)[0] + '_vamp_vamp-libxtract_spectral_inharmonicity_spectral_inharmonicity.csv')\n",
    "        os.rename(f2, f)\n",
    "        idx += 1\n",
    "\n",
    "        # MAKE GLOBAL KEY ESTIMATION BASED ON HYPERMETRICAL KEYS\n",
    "        global_keys_candidates = []\n",
    "        global_keys_confidence = []\n",
    "        for item in output_df.key1.unique():\n",
    "            if item != 'nan':\n",
    "                key_df = output_df[output_df.key1 == item]\n",
    "                global_keys_candidates.append(item)\n",
    "                global_keys_confidence.append(key_df.confidence.sum())\n",
    "\n",
    "        global_key = global_keys_candidates[global_keys_confidence.index(max(global_keys_confidence))]    \n",
    "        \n",
    "        # SAVE SINGLE GLOBAL ESTIMATION TO TEXT FILE AND REMOVE INTERMEDIATE FILES\n",
    "        global_key_dir = '/Users/angel/Desktop/new_keys'\n",
    "        with open(os.path.join(global_key_dir, os.path.split(os.path.splitext(f)[0])[1] + '.txt'), 'w') as textfile:\n",
    "                  textfile.write(global_key)\n",
    "\n"
   ]
  },
  {
   "cell_type": "code",
   "execution_count": null,
   "metadata": {
    "collapsed": true
   },
   "outputs": [],
   "source": []
  }
 ],
 "metadata": {
  "kernelspec": {
   "display_name": "Python 2",
   "language": "python",
   "name": "python2"
  },
  "language_info": {
   "codemirror_mode": {
    "name": "ipython",
    "version": 2
   },
   "file_extension": ".py",
   "mimetype": "text/x-python",
   "name": "python",
   "nbconvert_exporter": "python",
   "pygments_lexer": "ipython2",
   "version": "2.7.14"
  }
 },
 "nbformat": 4,
 "nbformat_minor": 2
}
