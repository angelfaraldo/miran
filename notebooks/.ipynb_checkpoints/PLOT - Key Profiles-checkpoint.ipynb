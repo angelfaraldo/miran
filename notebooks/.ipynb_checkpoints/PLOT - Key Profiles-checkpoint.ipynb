{
 "cells": [
  {
   "cell_type": "code",
   "execution_count": null,
   "metadata": {
    "collapsed": true
   },
   "outputs": [],
   "source": [
    "%matplotlib inline\n",
    "from miran import *\n",
    "import seaborn as sns\n",
    "import matplotlib as mpl\n",
    "\n",
    "sns.set_style('whitegrid', {'axes.linewidth': 0.0,  'axes.edgecolor': 'gray'})#, 'axes.facecolor':'snow'})\n",
    "sns.set_palette(\"Greys_d\", 2)\n",
    "mpl.rc('font', **{'family':'serif', 'serif':['Times']})\n",
    "mpl.rc('xtick', labelsize=8)\n",
    "mpl.rc('ytick', labelsize=8)\n",
    "mpl.rc('axes', labelsize=9)\n",
    "mpl.rc('text', usetex=True)"
   ]
  },
  {
   "cell_type": "code",
   "execution_count": null,
   "metadata": {},
   "outputs": [],
   "source": [
    "plot_bin_profiles(\"krumhansl\", yr=(1,7), yt=(1,2,3,4,5,6,7),fy1=7.7, fy2=7.2, yl='ratings')"
   ]
  },
  {
   "cell_type": "code",
   "execution_count": null,
   "metadata": {},
   "outputs": [],
   "source": [
    "plot_bin_profiles(\"temperley99\", yr=(1,7), yt=(1,2,3,4,5,6,7), fy1=7.7, fy2=7.2,fx=0.075, yl='ratings')"
   ]
  },
  {
   "cell_type": "code",
   "execution_count": null,
   "metadata": {},
   "outputs": [],
   "source": [
    "plot_bin_profiles(\"shaath\", yr=(1,7), yt=(1,2,3,4,5,6,7), fy1=7.7, fy2=7.2,fx=0.075, yl='ratings')"
   ]
  },
  {
   "cell_type": "code",
   "execution_count": null,
   "metadata": {},
   "outputs": [],
   "source": [
    "plot_bin_profiles(\"edma\", yr=(-0.1,1.1), fy1=1.25, fy2=1.15)"
   ]
  },
  {
   "cell_type": "code",
   "execution_count": null,
   "metadata": {
    "scrolled": false
   },
   "outputs": [],
   "source": [
    "plot_bin_profiles(\"edmm\", yr=(-0.1,1.1), fy1=1.25, fy2=1.15, loc=(0.841,0.64))"
   ]
  },
  {
   "cell_type": "code",
   "execution_count": null,
   "metadata": {},
   "outputs": [],
   "source": [
    "plot_bin_profiles(\"braw\",  yr=(-0.1,1.1), fy1=1.25, fy2=1.15)"
   ]
  },
  {
   "cell_type": "code",
   "execution_count": null,
   "metadata": {},
   "outputs": [],
   "source": [
    "plot_bin_profiles(\"bgate\", yr=(-0.1,1.1), fy1=1.25, fy2=1.15)"
   ]
  },
  {
   "cell_type": "code",
   "execution_count": null,
   "metadata": {},
   "outputs": [],
   "source": [
    "plot_single_profile([1., 0.26, 0.35, 0.29, 0.44, 0.36, 0.21, 0.78, 0.26, 0.25, 0.32, 0.26], label=\"minor-major\", yr=(-0.1,1.1), fy=1.15)"
   ]
  },
  {
   "cell_type": "code",
   "execution_count": null,
   "metadata": {},
   "outputs": [],
   "source": [
    "plot_single_profile([5., 2, 3, 4, 4, 3, 2, 4, 3, 3, 3, 3], label=\"super-profile\", yr=(1,6), fy=6.20)"
   ]
  },
  {
   "cell_type": "code",
   "execution_count": null,
   "metadata": {},
   "outputs": [],
   "source": [
    "plot_bin_profiles(\"temperley-essen\", yr=(-0.03,0.23), fy1=0.26, fy2=0.24)"
   ]
  },
  {
   "cell_type": "code",
   "execution_count": null,
   "metadata": {},
   "outputs": [],
   "source": [
    "plot_bin_profiles(\"temperley05\", yr=(-0.05,0.8), fy1=0.89, fy2=0.82, yl='individual probabilities')"
   ]
  },
  {
   "cell_type": "code",
   "execution_count": null,
   "metadata": {},
   "outputs": [],
   "source": [
    "plot_bin_profiles(\"noland\",yr=(0,0.08), fy1=0.083, fy2=0.09, yl='weigths')"
   ]
  },
  {
   "cell_type": "code",
   "execution_count": null,
   "metadata": {},
   "outputs": [],
   "source": [
    "plot_bin_profiles(\"alternate\", yr=(-0.1,1.1), fy1=1.25, fy2=1.15, l1='majmin', l2='other')"
   ]
  },
  {
   "cell_type": "code",
   "execution_count": null,
   "metadata": {
    "collapsed": true
   },
   "outputs": [],
   "source": []
  }
 ],
 "metadata": {
  "kernelspec": {
   "display_name": "Python 3",
   "language": "python",
   "name": "python3"
  },
  "language_info": {
   "codemirror_mode": {
    "name": "ipython",
    "version": 2
   },
   "file_extension": ".py",
   "mimetype": "text/x-python",
   "name": "python",
   "nbconvert_exporter": "python",
   "pygments_lexer": "ipython2",
   "version": "2.7.14"
  }
 },
 "nbformat": 4,
 "nbformat_minor": 2
}
