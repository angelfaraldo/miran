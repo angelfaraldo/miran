{
 "cells": [
  {
   "cell_type": "code",
   "execution_count": 1,
   "metadata": {},
   "outputs": [
    {
     "ename": "NameError",
     "evalue": "name 'sns' is not defined",
     "output_type": "error",
     "traceback": [
      "\u001b[0;31m---------------------------------------------------------------------------\u001b[0m",
      "\u001b[0;31mNameError\u001b[0m                                 Traceback (most recent call last)",
      "\u001b[0;32m<ipython-input-1-c974011305e8>\u001b[0m in \u001b[0;36m<module>\u001b[0;34m()\u001b[0m\n\u001b[1;32m      2\u001b[0m \u001b[0;32mfrom\u001b[0m \u001b[0mmiran\u001b[0m \u001b[0;32mimport\u001b[0m \u001b[0;34m*\u001b[0m\u001b[0;34m\u001b[0m\u001b[0m\n\u001b[1;32m      3\u001b[0m \u001b[0;34m\u001b[0m\u001b[0m\n\u001b[0;32m----> 4\u001b[0;31m \u001b[0msns\u001b[0m\u001b[0;34m.\u001b[0m\u001b[0mset_style\u001b[0m\u001b[0;34m(\u001b[0m\u001b[0;34m'white'\u001b[0m\u001b[0;34m,\u001b[0m \u001b[0;34m{\u001b[0m\u001b[0;34m'axes.linewidth'\u001b[0m\u001b[0;34m:\u001b[0m \u001b[0;36m0.2\u001b[0m\u001b[0;34m,\u001b[0m  \u001b[0;34m'axes.edgecolor'\u001b[0m\u001b[0;34m:\u001b[0m \u001b[0;34m'gray'\u001b[0m\u001b[0;34m}\u001b[0m\u001b[0;34m)\u001b[0m\u001b[0;31m#, 'axes.facecolor':'snow'})\u001b[0m\u001b[0;34m\u001b[0m\u001b[0m\n\u001b[0m\u001b[1;32m      5\u001b[0m \u001b[0msns\u001b[0m\u001b[0;34m.\u001b[0m\u001b[0mset_palette\u001b[0m\u001b[0;34m(\u001b[0m\u001b[0;34m\"Reds_d\"\u001b[0m\u001b[0;34m,\u001b[0m \u001b[0;36m5\u001b[0m\u001b[0;34m)\u001b[0m\u001b[0;34m;\u001b[0m \u001b[0mmy_palette\u001b[0m\u001b[0;34m=\u001b[0m\u001b[0;34m'Reds'\u001b[0m\u001b[0;34m;\u001b[0m \u001b[0mlibcolor\u001b[0m\u001b[0;34m=\u001b[0m\u001b[0;34m'Reds'\u001b[0m\u001b[0;34m\u001b[0m\u001b[0m\n\u001b[1;32m      6\u001b[0m \u001b[0mmpl\u001b[0m\u001b[0;34m.\u001b[0m\u001b[0mrc\u001b[0m\u001b[0;34m(\u001b[0m\u001b[0;34m'font'\u001b[0m\u001b[0;34m,\u001b[0m \u001b[0;34m**\u001b[0m\u001b[0;34m{\u001b[0m\u001b[0;34m'family'\u001b[0m\u001b[0;34m:\u001b[0m\u001b[0;34m'serif'\u001b[0m\u001b[0;34m,\u001b[0m \u001b[0;34m'serif'\u001b[0m\u001b[0;34m:\u001b[0m\u001b[0;34m[\u001b[0m\u001b[0;34m'Times'\u001b[0m\u001b[0;34m]\u001b[0m\u001b[0;34m}\u001b[0m\u001b[0;34m)\u001b[0m\u001b[0;34m\u001b[0m\u001b[0m\n",
      "\u001b[0;31mNameError\u001b[0m: name 'sns' is not defined"
     ]
    }
   ],
   "source": [
    "%matplotlib inline\n",
    "from miran import *\n",
    "import seaborn as sns\n",
    "\n",
    "sns.set_style('white', {'axes.linewidth': 0.2,  'axes.edgecolor': 'gray'})#, 'axes.facecolor':'snow'})\n",
    "sns.set_palette(\"Reds_d\", 5); my_palette='Reds'; libcolor='Reds'\n",
    "mpl.rc('font', **{'family':'serif', 'serif':['Times']})\n",
    "mpl.rc('xtick', labelsize=8)\n",
    "mpl.rc('ytick', labelsize=8)\n",
    "mpl.rc('axes', labelsize=9)\n",
    "mpl.rc('text', usetex=True)"
   ]
  },
  {
   "cell_type": "code",
   "execution_count": null,
   "metadata": {},
   "outputs": [],
   "source": [
    "from matplotlib.colors import LogNorm\n"
   ]
  },
  {
   "cell_type": "code",
   "execution_count": null,
   "metadata": {
    "collapsed": true
   },
   "outputs": [],
   "source": [
    "pl"
   ]
  },
  {
   "cell_type": "code",
   "execution_count": null,
   "metadata": {
    "scrolled": true
   },
   "outputs": [],
   "source": [
    "a = pd.read_excel('/Users/angel/Dropbox/Apps/Texpad/Thesis/evaluation/THESIS/FINAL-BGATE+-EDM-LAX.xlsx', sheetname=1)\n",
    "aa = a.as_matrix()\n",
    "\n",
    "plt.figure(figsize=(8,1.5),dpi=150)\n",
    "\n",
    "xlabs=(r'I', r'$\\flat$II', r'II', r'$\\flat$III', r'III', r'IV', r'$\\flat$V', r'V', r'$\\flat$VI', r'VI', r'$\\flat$VII', r'VII',\n",
    "       r'i', r'$\\flat$ii', r'ii', r'$\\flat$iii', r'iii', r'iv', r'$\\flat$v', r'v', r'$\\flat$vi', r'vi', r'$\\flat$vii', r'vii',\n",
    "       r'1', r'$\\flat$2', r'2', r'$\\flat$3', r'3', r'4', r'$\\sharp$4', r'5', r'$\\flat$6', r'6', r'$\\flat$7', r'7',\n",
    "       r'X')\n",
    "ylabs=(r'I', r'i', r'1', 'X')\n",
    "    \n",
    "ax = plt.imshow(aa, interpolation='nearest', cmap='Reds', origin='lower', aspect='auto',  norm=LogNorm())\n",
    "plt.xticks(range(37), xlabs , size=8)\n",
    "plt.yticks(range(4), ylabs , size=8)\n",
    "\n",
    "width, height = aa.shape\n",
    "\n",
    "for x in xrange(width):\n",
    "    for y in xrange(height):\n",
    "        if aa[x][y] > 0:\n",
    "            if aa[x][y] > 100:\n",
    "                my_color = 'white'\n",
    "            else:\n",
    "                my_color = 'black'\n",
    "            plt.annotate(str(aa[x][y]), xy=(y, x), horizontalalignment='center', verticalalignment='center', size=7, color=my_color)\n",
    "            \n",
    "plt.tight_layout()\n",
    "plt.savefig('/Users/angel/Dropbox/Apps/Texpad/Thesis/figures/confrel_edm2.pdf', format=\"pdf\", dpi=1200)\n"
   ]
  },
  {
   "cell_type": "code",
   "execution_count": null,
   "metadata": {
    "collapsed": true
   },
   "outputs": [],
   "source": [
    "plot"
   ]
  }
 ],
 "metadata": {
  "kernelspec": {
   "display_name": "Python 2",
   "language": "python",
   "name": "python2"
  },
  "language_info": {
   "codemirror_mode": {
    "name": "ipython",
    "version": 2
   },
   "file_extension": ".py",
   "mimetype": "text/x-python",
   "name": "python",
   "nbconvert_exporter": "python",
   "pygments_lexer": "ipython2",
   "version": "2.7.14"
  }
 },
 "nbformat": 4,
 "nbformat_minor": 2
}
