{
 "cells": [
  {
   "cell_type": "code",
   "execution_count": 1,
   "metadata": {
    "collapsed": true
   },
   "outputs": [],
   "source": [
    "import os\n",
    "from subprocess import call"
   ]
  },
  {
   "cell_type": "code",
   "execution_count": 4,
   "metadata": {
    "collapsed": true
   },
   "outputs": [],
   "source": [
    "def wav2aiff(input_path):\n",
    "    \n",
    "    files = preparse_files(input_path)\n",
    "    \n",
    "    for f in files:\n",
    "        fname, fext = os.path.splitext(f)\n",
    "        if fext == '.wav':\n",
    "            call('ffmpeg -i \"{}\" \"{}\"'.format(f, fname + '.aif'),shell=True)\n",
    "            os.remove(f)"
   ]
  },
  {
   "cell_type": "code",
   "execution_count": 5,
   "metadata": {
    "collapsed": true
   },
   "outputs": [],
   "source": [
    "wav2aiff('/Users/angel/Desktop/gs-wav')"
   ]
  },
  {
   "cell_type": "code",
   "execution_count": 12,
   "metadata": {
    "collapsed": true
   },
   "outputs": [],
   "source": [
    "import mutagen.flac"
   ]
  },
  {
   "cell_type": "code",
   "execution_count": 13,
   "metadata": {
    "collapsed": true
   },
   "outputs": [],
   "source": [
    "d = mutagen.flac.Open(\"/Users/angel/Desktop/beatles-flac/02_with_the_beatles__11_i_wanna_be_your_man.flac\")"
   ]
  },
  {
   "cell_type": "code",
   "execution_count": 14,
   "metadata": {},
   "outputs": [
    {
     "data": {
      "text/plain": [
       "[u'Em']"
      ]
     },
     "execution_count": 14,
     "metadata": {},
     "output_type": "execute_result"
    }
   ],
   "source": [
    "d[\"key\"]"
   ]
  },
  {
   "cell_type": "code",
   "execution_count": 9,
   "metadata": {},
   "outputs": [
    {
     "ename": "AttributeError",
     "evalue": "module 'mutagen' has no attribute 'aiff'",
     "output_type": "error",
     "traceback": [
      "\u001b[0;31m---------------------------------------------------------------------------\u001b[0m",
      "\u001b[0;31mAttributeError\u001b[0m                            Traceback (most recent call last)",
      "\u001b[0;32m<ipython-input-9-7418e8fc94eb>\u001b[0m in \u001b[0;36m<module>\u001b[0;34m()\u001b[0m\n\u001b[0;32m----> 1\u001b[0;31m \u001b[0md\u001b[0m \u001b[0;34m=\u001b[0m \u001b[0mmutagen\u001b[0m\u001b[0;34m.\u001b[0m\u001b[0maiff\u001b[0m\u001b[0;34m\u001b[0m\u001b[0m\n\u001b[0m",
      "\u001b[0;31mAttributeError\u001b[0m: module 'mutagen' has no attribute 'aiff'"
     ]
    }
   ],
   "source": [
    "d = mutagen.aiff"
   ]
  },
  {
   "cell_type": "code",
   "execution_count": 45,
   "metadata": {
    "collapsed": true
   },
   "outputs": [],
   "source": [
    "\n",
    "def Beatunes(input_file, output_dir=None):\n",
    "    \"\"\"\n",
    "    This function converts a Beatunes tagged file into\n",
    "    a readable format for our evaluation algorithm.\n",
    "\n",
    "    Beatunes embeds the the key as an ID3 tag\n",
    "    inside the audio file.\n",
    "\n",
    "    Major keys are written as a pitch alphabetic name in upper case\n",
    "    followed by an alteration symbol (low 'b' for flat) if needed (A, Bb)\n",
    "\n",
    "    Minor keys append an 'm' to the tonic written as in major,\n",
    "    without spaces between the tonic and the mode (Am, Bbm, ...)\n",
    "\n",
    "    audio_filename - key.mp3\n",
    "\n",
    "    \"\"\"\n",
    "    fname, fext = os.path.splitext(input_file)\n",
    "    \n",
    "    if fext == '.mp3':\n",
    "        import mutagen.mp3\n",
    "        d = mutagen.mp3.Open(input_file)\n",
    "        key = d[\"TKEY\"][0][0]\n",
    "\n",
    "    elif '.aif' in fext:\n",
    "        import mutagen.mp3\n",
    "        d = mutagen.aiff.Open(input_file)\n",
    "        key = d[\"TKEY\"][0][0]\n",
    "\n",
    "    elif fext == '.flac':\n",
    "        import mutagen.flac\n",
    "        d = mutagen.flac.Open(input_file)\n",
    "        key = d[\"key\"][0]\n",
    "\n",
    "    else:\n",
    "        print(\"Could not retrieve id3 tags from {}\\n\"\n",
    "        \"Recognised id3  formats are mp3, flac and aiff.\".format(input_file))\n",
    "        return\n",
    "\n",
    "    if key[-1] == 'm':\n",
    "         key = key[:-1] + '\\tminor\\n'\n",
    "\n",
    "    else:\n",
    "        key = key + '\\tmajor\\n'\n",
    "\n",
    "    if not output_dir:\n",
    "        output_dir, output_file = os.path.split(input_file)\n",
    "\n",
    "    else:\n",
    "        output_file = os.path.split(input_file)[1]\n",
    "\n",
    "    output_file = os.path.splitext(output_file)[0] + '.txt'\n",
    "\n",
    "    with open(os.path.join(output_dir,output_file), 'w') as outfile:\n",
    "        outfile.write(key)\n",
    "\n",
    "    print(\"Creating estimation file for '{}' in '{}'\". format(input_file, output_dir))"
   ]
  },
  {
   "cell_type": "code",
   "execution_count": 46,
   "metadata": {},
   "outputs": [
    {
     "name": "stdout",
     "output_type": "stream",
     "text": [
      "Creating estimation file for '/Users/angel/Desktop/c/01_please_please_me__10_baby_it's_you.aif' in '/Users/angel/Desktop/c'\n"
     ]
    }
   ],
   "source": [
    "Beatunes(\"/Users/angel/Desktop/c/01_please_please_me__10_baby_it's_you.aif\")"
   ]
  },
  {
   "cell_type": "code",
   "execution_count": 17,
   "metadata": {
    "collapsed": true
   },
   "outputs": [],
   "source": [
    "import os"
   ]
  },
  {
   "cell_type": "code",
   "execution_count": 28,
   "metadata": {
    "collapsed": true
   },
   "outputs": [],
   "source": [
    "dd = mutagen.mp3.Open(\"/Users/angel/Desktop/beatles-128/05_help!__12_i've_just_seen_a_face.mp3\")"
   ]
  }
 ],
 "metadata": {
  "kernelspec": {
   "display_name": "Python 2",
   "language": "python",
   "name": "python2"
  },
  "language_info": {
   "codemirror_mode": {
    "name": "ipython",
    "version": 2
   },
   "file_extension": ".py",
   "mimetype": "text/x-python",
   "name": "python",
   "nbconvert_exporter": "python",
   "pygments_lexer": "ipython2",
   "version": "2.7.14"
  }
 },
 "nbformat": 4,
 "nbformat_minor": 2
}
