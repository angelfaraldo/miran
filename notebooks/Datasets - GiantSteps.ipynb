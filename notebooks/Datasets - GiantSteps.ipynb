{
 "cells": [
  {
   "cell_type": "code",
   "execution_count": null,
   "metadata": {
    "collapsed": true
   },
   "outputs": [],
   "source": [
    "import os\n",
    "import pandas as pd\n",
    "from miran import *\n",
    "import seaborn as sns\n",
    "\n",
    "# import and tweak Pandas display options:\n",
    "pd.set_option('precision', 2)\n",
    "pd.set_option('display.colheader_justify', 'right')\n",
    "pd.set_option('display.width', 40)\n",
    "pd.set_option('display.max_rows', 100)\n",
    "pd.set_option('max_colwidth', 50)\n",
    "pd.set_option('expand_frame_repr', True)"
   ]
  },
  {
   "cell_type": "code",
   "execution_count": null,
   "metadata": {
    "collapsed": true
   },
   "outputs": [],
   "source": [
    "# metadata original de todos los archivos del gs (600)\n",
    "gs = metadir_to_pddf('/Users/angel/Insync/Datasets/GS/meta')"
   ]
  },
  {
   "cell_type": "code",
   "execution_count": null,
   "metadata": {
    "collapsed": true
   },
   "outputs": [],
   "source": [
    "# annotaciones detalladas en excel\n",
    "d = pd.read_excel('/Users/angel/Insync/Datasets/GS/GS-analysis.xlsx')"
   ]
  },
  {
   "cell_type": "code",
   "execution_count": null,
   "metadata": {
    "collapsed": true
   },
   "outputs": [],
   "source": [
    "# obtain all key annotations linked to their filename:\n",
    "keydir = '/Users/angel/Insync/Datasets/GS/keys'\n",
    "keyfiles = folderfiles(keydir, ext='.key')\n",
    "keytuples = []\n",
    "for doc in keyfiles:\n",
    "    with open(doc, 'r') as d:\n",
    "        keytuples.append((strip_filename(doc), d.read()))\n",
    "\n",
    "# dataframe con las anotaciones globales (ground truth)\n",
    "keydf = pd.DataFrame(keytuples, columns=['filename', 'key'])"
   ]
  },
  {
   "cell_type": "code",
   "execution_count": null,
   "metadata": {
    "collapsed": true
   },
   "outputs": [],
   "source": [
    "# merge the metadata with a column with our own key estimations\n",
    "mer = pd.merge(gs, keydf, on='filename')"
   ]
  },
  {
   "cell_type": "code",
   "execution_count": null,
   "metadata": {
    "collapsed": true
   },
   "outputs": [],
   "source": [
    "gs100= gs[gs.filename.str.contains('\\*')==True]"
   ]
  },
  {
   "cell_type": "code",
   "execution_count": null,
   "metadata": {
    "collapsed": true,
    "scrolled": false
   },
   "outputs": [],
   "source": [
    "notun = gs100[gs100.filename.str.contains('Unknown Artist')==False]"
   ]
  },
  {
   "cell_type": "code",
   "execution_count": null,
   "metadata": {
    "collapsed": true,
    "scrolled": false
   },
   "outputs": [],
   "source": [
    "noti = notun[notun.title=='']"
   ]
  },
  {
   "cell_type": "code",
   "execution_count": null,
   "metadata": {},
   "outputs": [],
   "source": [
    "# para retornar filas con la substring seleccionada en el campo seleccionado\n",
    "gs[gs.key.str.contains('none|min')==True]\n"
   ]
  },
  {
   "cell_type": "code",
   "execution_count": null,
   "metadata": {
    "collapsed": true,
    "scrolled": true
   },
   "outputs": [],
   "source": [
    "mer2 =  pd.merge(mer, d, on='filename')"
   ]
  },
  {
   "cell_type": "code",
   "execution_count": null,
   "metadata": {
    "collapsed": true
   },
   "outputs": [],
   "source": [
    "df_to_excel(gs,'/Users/angel/Desktop/gs600')\n",
    "df_to_excel(keydf, '/Users/angel/Desktop/global-keys')"
   ]
  },
  {
   "cell_type": "code",
   "execution_count": null,
   "metadata": {
    "collapsed": true
   },
   "outputs": [],
   "source": [
    "filepath_to_pdcol(d, '/Users/angel/Insync/Datasets/GS500/all', ext='.mp3')"
   ]
  },
  {
   "cell_type": "code",
   "execution_count": null,
   "metadata": {
    "collapsed": true,
    "scrolled": false
   },
   "outputs": [],
   "source": [
    "d = d.filter(['id', 'artists', 'title', 'genres', 'path'])"
   ]
  },
  {
   "cell_type": "code",
   "execution_count": null,
   "metadata": {
    "collapsed": true
   },
   "outputs": [],
   "source": [
    "# Para copiar archivos del dataset basados en algún criterio específico!\n",
    "copy_files_in_pddf(d[d.genres == 'Minimal / Deep Tech'].path, '/Users/angel/Insync/Datasets/GS500/genres/Minimal - Deep Tech/')"
   ]
  }
 ],
 "metadata": {
  "kernelspec": {
   "display_name": "Python 2",
   "language": "python",
   "name": "python2"
  },
  "language_info": {
   "codemirror_mode": {
    "name": "ipython",
    "version": 2
   },
   "file_extension": ".py",
   "mimetype": "text/x-python",
   "name": "python",
   "nbconvert_exporter": "python",
   "pygments_lexer": "ipython2",
   "version": "2.7.14"
  }
 },
 "nbformat": 4,
 "nbformat_minor": 2
}
