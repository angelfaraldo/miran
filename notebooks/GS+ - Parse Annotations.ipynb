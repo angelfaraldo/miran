{
 "cells": [
  {
   "cell_type": "code",
   "execution_count": 1,
   "metadata": {
    "collapsed": true
   },
   "outputs": [],
   "source": [
    "from miran import *"
   ]
  },
  {
   "cell_type": "code",
   "execution_count": null,
   "metadata": {
    "collapsed": true
   },
   "outputs": [],
   "source": [
    "def parse_pc_gs(my_string):\n",
    "    print(my_string)\n",
    "    tonic, pcset = my_string.split(\":\")\n",
    "    tonicpc = chroma_to_pc(tonic)\n",
    "    pcset = pcset.split(', ')\n",
    "    pcs = []\n",
    "    for pitch in pcset:\n",
    "        if tonicpc == -1:\n",
    "            pcs.append(chroma_to_pc(pitch))\n",
    "        else:\n",
    "            pcs.append((chroma_to_pc(pitch) - tonicpc) % 12)\n",
    "    pcs.sort()\n",
    "    return tonic, pcs"
   ]
  },
  {
   "cell_type": "code",
   "execution_count": 2,
   "metadata": {
    "collapsed": true
   },
   "outputs": [],
   "source": [
    "# load data\n",
    "d_raw = pd.read_excel('/Users/angel/Insync/Datasets/giantsteps/GiantSteps_v3.xlsx')\n",
    "\n",
    "# filter items from GS+\n",
    "d = d_raw[d_raw['*']=='+']\n",
    "\n",
    "# and leave out unused fields\n",
    "#d = d.filter(['id','key_v1','tonic:notes1', 'label1'])"
   ]
  },
  {
   "cell_type": "code",
   "execution_count": null,
   "metadata": {
    "collapsed": true
   },
   "outputs": [],
   "source": [
    "# create separate lists for different analysis parameters\n",
    "pcsets = []\n",
    "cardinalities = []\n",
    "new_keys = []\n",
    "basic_modes = []\n",
    "explicit_modes = []\n",
    "\n",
    "for item in d.detail1:\n",
    "    explicit_mode = []\n",
    "    tonic, pcs = parse_pc_gs(item)\n",
    "    pcsets.append(pcs)\n",
    "    cardinalities.append(len(pcs))\n",
    "    if tonic == 'X':\n",
    "        new_keys.append('{}'.format(tonic))\n",
    "        basic_modes.append('')\n",
    "        explicit_modes.append('')\n",
    "        continue\n",
    "        \n",
    "    # Find Basic Modality:\n",
    "    triad = 'other'\n",
    "    basic_mode = 'other'\n",
    "\n",
    "    if set(pcs) > set([0,4]):\n",
    "        triad = 'major'\n",
    "        basic_mode = 'major'\n",
    "        \n",
    "        if set(pcs) > set([0,3]):\n",
    "            triad = 'major | {} minor'.format(tonic)\n",
    "            basic_mode = 'majmin'\n",
    "\n",
    "    elif set(pcs) > set([0,3]):\n",
    "        triad = 'minor'\n",
    "        basic_mode = 'minor'\n",
    "\n",
    "    basic_modes.append(basic_mode)    \n",
    "    new_keys.append('{} {}'.format(tonic, triad))\n",
    "    \n",
    "    # FIND MORE DETAILED MODALITY:\n",
    "    # majors\n",
    "    if set(pcs) > set([0,1,4,7]):\n",
    "        explicit_mode.append('phrygian-major')\n",
    "    if set(pcs) == set([0,2,4,7,9]):\n",
    "        explicit_mode.append('pentamaj')\n",
    "    if set(pcs) > set([0,2,4,9,11]):\n",
    "        explicit_mode.append('ionian')\n",
    "    if set(pcs) > set([0,2,4,9,10]):\n",
    "        explicit_mode.append('mixolydian')\n",
    "    if set(pcs) > set([0,2,4,8]):\n",
    "        explicit_mode.append('major-b6')\n",
    "\n",
    "    # minors\n",
    "    if set(pcs) > set([0,3,5,7,10]):\n",
    "        explicit_mode.append('pentamin')\n",
    "    if set(pcs) > set([0,2,3,8,10]):\n",
    "            explicit_mode.append('aeolian')\n",
    "    if set(pcs) > set([0,2,3,9,10]):\n",
    "            explicit_mode.append('dorian')\n",
    "    if set(pcs) > set([0,1,3,5,7,10]):\n",
    "        explicit_mode.append('phrygian')\n",
    "    if set(pcs) > set([0,3,5,7,8,11]):\n",
    "        explicit_mode.append('harmonic')\n",
    "\n",
    "    #others\n",
    "    if set(pcs) > set([0,1,3,6]):\n",
    "        explicit_mode.append('locrian')\n",
    "\n",
    "    explicit_modes.append(explicit_mode)\n",
    "\n",
    "# and append them as new columns.\n",
    "d['newkey'] = new_keys\n",
    "d['pcset'] = pcsets\n",
    "d['cardinality'] = cardinalities\n",
    "d['basic_mode'] = basic_modes\n",
    "d['explicit_mode'] = explicit_modes"
   ]
  },
  {
   "cell_type": "code",
   "execution_count": null,
   "metadata": {
    "collapsed": true
   },
   "outputs": [],
   "source": [
    "df_to_excel(d, '/Users/angel/Desktop/GiantSteps+')"
   ]
  },
  {
   "cell_type": "code",
   "execution_count": null,
   "metadata": {
    "collapsed": true
   },
   "outputs": [],
   "source": [
    "# FOR KEY CHANGES\n",
    "\n",
    "# load data\n",
    "d_raw = pd.read_excel('/Users/angel/Desktop/GiantSteps+.xlsx')\n",
    "\n",
    "# filter items with a second key annotated\n",
    "d = d_raw[d_raw.detail2.isnull()==False]\n",
    "\n",
    "# and leave out unused fields\n",
    "#d = d.filter(['id','key_v1','tonic:notes1', 'label1'])"
   ]
  },
  {
   "cell_type": "code",
   "execution_count": null,
   "metadata": {
    "collapsed": true
   },
   "outputs": [],
   "source": [
    "len(d)"
   ]
  },
  {
   "cell_type": "code",
   "execution_count": null,
   "metadata": {
    "collapsed": true
   },
   "outputs": [],
   "source": [
    "# create separate lists for different analysis parameters\n",
    "pcsets = []\n",
    "cardinalities = []\n",
    "new_keys = []\n",
    "basic_modes = []\n",
    "explicit_modes = []\n",
    "\n",
    "for item in d.detail2:\n",
    "    explicit_mode = []\n",
    "    tonic, pcs = parse_pc_gs(item)\n",
    "    pcsets.append(pcs)\n",
    "    cardinalities.append(len(pcs))\n",
    "    if tonic == 'X':\n",
    "        new_keys.append('{}'.format(tonic))\n",
    "        basic_modes.append('')\n",
    "        explicit_modes.append('')\n",
    "        continue\n",
    "        \n",
    "    # Find Basic Modality:\n",
    "    triad = 'other'\n",
    "    basic_mode = 'other'\n",
    "\n",
    "    if set(pcs) > set([0,4]):\n",
    "        triad = 'major'\n",
    "        basic_mode = 'major'\n",
    "        \n",
    "        if set(pcs) > set([0,3]):\n",
    "            triad = 'major | {} minor'.format(tonic)\n",
    "            basic_mode = 'majmin'\n",
    "\n",
    "    elif set(pcs) > set([0,3]):\n",
    "        triad = 'minor'\n",
    "        basic_mode = 'minor'\n",
    "\n",
    "    basic_modes.append(basic_mode)    \n",
    "    new_keys.append('{} {}'.format(tonic, triad))\n",
    "    \n",
    "    # FIND MORE DETAILED MODALITY:\n",
    "    # majors\n",
    "    if set(pcs) > set([0,1,4,7]):\n",
    "        explicit_mode.append('phrygian-major')\n",
    "    if set(pcs) == set([0,2,4,7,9]):\n",
    "        explicit_mode.append('pentamaj')\n",
    "    if set(pcs) > set([0,2,4,9,11]):\n",
    "        explicit_mode.append('ionian')\n",
    "    if set(pcs) > set([0,2,4,9,10]):\n",
    "        explicit_mode.append('mixolydian')\n",
    "    if set(pcs) > set([0,2,4,8]):\n",
    "        explicit_mode.append('major-b6')\n",
    "\n",
    "    # minors\n",
    "    if set(pcs) > set([0,3,5,7,10]):\n",
    "        explicit_mode.append('pentamin')\n",
    "    if set(pcs) > set([0,2,3,8,10]):\n",
    "            explicit_mode.append('aeolian')\n",
    "    if set(pcs) > set([0,2,3,9,10]):\n",
    "            explicit_mode.append('dorian')\n",
    "    if set(pcs) > set([0,1,3,5,7,10]):\n",
    "        explicit_mode.append('phrygian')\n",
    "    if set(pcs) > set([0,3,5,7,8,11]):\n",
    "        explicit_mode.append('harmonic')\n",
    "\n",
    "    #others\n",
    "    if set(pcs) > set([0,1,3,6]):\n",
    "        explicit_mode.append('locrian')\n",
    "\n",
    "    explicit_modes.append(explicit_mode)\n",
    "\n",
    "# and append them as new columns.\n",
    "d['newkey2'] = new_keys\n",
    "d['pcset2'] = pcsets\n",
    "d['cardinality2'] = cardinalities\n",
    "d['basic_mode2'] = basic_modes\n",
    "d['explicit_mode2'] = explicit_modes"
   ]
  },
  {
   "cell_type": "code",
   "execution_count": 3,
   "metadata": {},
   "outputs": [
    {
     "name": "stdout",
     "output_type": "stream",
     "text": [
      "\n",
      "Saving dataframe to excel spreadsheet /Users/angel/Desktop/GiantStepsKeyChanges\n"
     ]
    }
   ],
   "source": [
    "df_to_excel(d, '/Users/angel/Desktop/GiantStepsKeyChanges')"
   ]
  },
  {
   "cell_type": "code",
   "execution_count": null,
   "metadata": {
    "collapsed": true
   },
   "outputs": [],
   "source": []
  },
  {
   "cell_type": "code",
   "execution_count": 12,
   "metadata": {},
   "outputs": [
    {
     "data": {
      "text/plain": [
       "<matplotlib.axes._subplots.AxesSubplot at 0x11b89c310>"
      ]
     },
     "execution_count": 12,
     "metadata": {},
     "output_type": "execute_result"
    },
    {
     "data": {
      "image/png": "[encoded data removed]",
      "text/plain": [
       "<matplotlib.figure.Figure at 0x11b86ad10>"
      ]
     },
     "metadata": {
      "image/png": {
       "height": 254,
       "width": 362
      }
     },
     "output_type": "display_data"
    }
   ],
   "source": [
    "sns.distplot(d.pcc1, kde=True)"
   ]
  },
  {
   "cell_type": "markdown",
   "metadata": {},
   "source": [
    "## "
   ]
  }
 ],
 "metadata": {
  "kernelspec": {
   "display_name": "Python 2",
   "language": "python",
   "name": "python2"
  },
  "language_info": {
   "codemirror_mode": {
    "name": "ipython",
    "version": 2
   },
   "file_extension": ".py",
   "mimetype": "text/x-python",
   "name": "python",
   "nbconvert_exporter": "python",
   "pygments_lexer": "ipython2",
   "version": "2.7.14"
  }
 },
 "nbformat": 4,
 "nbformat_minor": 2
}
