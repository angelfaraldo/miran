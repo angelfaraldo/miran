{
 "cells": [
  {
   "cell_type": "code",
   "execution_count": null,
   "metadata": {
    "collapsed": true
   },
   "outputs": [],
   "source": [
    "from miran import *\n",
    "import sys\n",
    "\n",
    "reload(sys)\n",
    "sys.setdefaultencoding('utf8')"
   ]
  },
  {
   "cell_type": "code",
   "execution_count": null,
   "metadata": {
    "collapsed": true
   },
   "outputs": [],
   "source": [
    "b = pd.read_excel('/Users/angel/Insync/Datasets/beatport/beatport.xlsx')\n",
    "bp = b.filter(['id', 'artists', 'title', 'mix', 'label', 'genres', 'key_bp', 'bpm'])"
   ]
  },
  {
   "cell_type": "code",
   "execution_count": null,
   "metadata": {
    "collapsed": true
   },
   "outputs": [],
   "source": [
    "rj = u'<\\n \"exclusive\": false, \\n \"images\": <\\n  \"large\": <\\n   \"url\": \"\", \\n   \"width\": null, \\n   \"id\": null, \\n   \"height\": null\\n  >, \\n  \"small\": <\\n   \"url\": \"\", \\n   \"width\": null, \\n   \"id\": null, \\n   \"height\": null\\n  >, \\n  \"medium\": <\\n   \"url\": \"\", \\n   \"width\": null, \\n   \"id\": null, \\n   \"height\": null\\n  >, \\n  \"dynamic\": <\\n   \"url\": \"\", \\n   \"id\": null\\n  >\\n >, \\n \"artists\": [\\n  <\\n   \"slug\": \"\", \\n   \"id\": null, \\n   \"name\": \"{0}\"\\n  > \\n ], \\n \"duration\": <\\n  \"minutes\": \"\", \\n  \"milliseconds\": null\\n >, \\n \"id\": {1}, \\n \"genres\": [\\n  <\\n   \"slug\": \"\", \\n   \"id\": null, \\n   \"name\": \"{2}\"\\n  >\\n ], \\n \"title\": \"{3}\", \\n \"label\": <\\n  \"slug\": \"\", \\n  \"id\": null, \\n  \"name\": \"{4}\"\\n >, \\n \"mix\": \"{5}\", \\n \"preview\": <\\n  \"mp4\": <\\n   \"url\": \"\", \\n   \"offset\": <\\n    \"start\": null, \\n    \"end\": null\\n   >\\n  >, \\n  \"mp3\": <\\n   \"url\": \"\", \\n   \"offset\": <\\n    \"start\": null, \\n    \"end\": null\\n   >\\n  >\\n >, \\n \"type\": \"track\", \\n \"remixers\": [], \\n \"purchase_type\": null, \\n \"audio_format\": \"mp3\", \\n \"sale_type\": \"purchase\", \\n \"purchase\": null, \\n \"price\": <\\n  \"symbol\": \"\\\\u20ac\", \\n  \"code\": \"EUR\", \\n  \"display\": \"\\\\u20ac1.30\", \\n  \"value\": 1.3\\n >, \\n \"component\": \"Track Detail\", \\n \"sponsored\": false, \\n \"key\": \"{6}\", \\n \"date\": <\\n  \"released\": \"2003-11-30\", \\n  \"published\": \"2003-11-30\"\\n >, \\n \"active\": true, \\n \"slug\": \"\", \\n \"preorder\": false, \\n \"name\": \"{7}\", \\n \"component_type\": null, \\n \"bpm\": {8}, \\n \"formats\": <\\n  \"wav\": <\\n   \"symbol\": \"\", \\n   \"code\": \"\", \\n   \"display\": \"\", \\n   \"value\": null\\n  >, \\n  \"aiff\": <\\n   \"symbol\": \"\", \\n   \"code\": \"\", \\n   \"display\": \"\", \\n   \"value\": null\\n  >\\n >, \\n \"release\": <\\n  \"slug\": \"\", \\n  \"id\": null, \\n  \"name\": \"\"\\n >, \\n \"waveform\": <\\n  \"large\": <\\n   \"url\": \"\", \\n   \"width\": null, \\n   \"id\": null, \\n   \"height\": null\\n  >, \\n  \"dynamic\": <\\n   \"url\": null, \\n   \"id\": null\\n  >\\n >, \\n \"guest_pick\": false, \\n \"sub_genres\": []\\n>'\n",
    "\n",
    "with open('/Users/angel/Desktop/raw_json_string.txt', 'r') as rj:\n",
    "    rj = rj.read()\n",
    "    \n",
    "for item in jsonless:\n",
    "    iid = int(strip_filename(item).split()[0])\n",
    "    vals = bp[bp.id==iid].values[0][0:8]\n",
    "    print vals\n",
    "    full_title = '{} ({})'.format(vals[2], vals[3]) \n",
    "    rjt = rj.format(vals[1], vals[0], vals[5], full_title, vals[4], vals[3], vals[6], vals[2], vals[7])\n",
    "    rjt = rjt.replace('\\n', '')\n",
    "    rjt = rjt.replace('<', '{')\n",
    "    rjt = rjt.replace('>', '}')\n",
    "    with open(os.path.splitext(item)[0] + '.json', 'w') as newj:\n",
    "        newj.write(rjt)"
   ]
  }
 ],
 "metadata": {
  "kernelspec": {
   "display_name": "Python 2",
   "language": "python",
   "name": "python2"
  },
  "language_info": {
   "codemirror_mode": {
    "name": "ipython",
    "version": 2
   },
   "file_extension": ".py",
   "mimetype": "text/x-python",
   "name": "python",
   "nbconvert_exporter": "python",
   "pygments_lexer": "ipython2",
   "version": "2.7.14"
  }
 },
 "nbformat": 4,
 "nbformat_minor": 2
}
