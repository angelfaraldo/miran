{
 "cells": [
  {
   "cell_type": "code",
   "execution_count": 2,
   "metadata": {
    "collapsed": true
   },
   "outputs": [],
   "source": [
    "from miran import *"
   ]
  },
  {
   "cell_type": "code",
   "execution_count": 1,
   "metadata": {},
   "outputs": [
    {
     "ename": "NameError",
     "evalue": "name 'pd' is not defined",
     "output_type": "error",
     "traceback": [
      "\u001b[0;31m---------------------------------------------------------------------------\u001b[0m",
      "\u001b[0;31mNameError\u001b[0m                                 Traceback (most recent call last)",
      "\u001b[0;32m<ipython-input-1-260bfaebe3cd>\u001b[0m in \u001b[0;36m<module>\u001b[0;34m()\u001b[0m\n\u001b[1;32m      1\u001b[0m \u001b[0;31m# load data\u001b[0m\u001b[0;34m\u001b[0m\u001b[0;34m\u001b[0m\u001b[0m\n\u001b[0;32m----> 2\u001b[0;31m \u001b[0md_raw\u001b[0m \u001b[0;34m=\u001b[0m \u001b[0mpd\u001b[0m\u001b[0;34m.\u001b[0m\u001b[0mread_excel\u001b[0m\u001b[0;34m(\u001b[0m\u001b[0;34m'/Users/angel/Insync/Datasets/giantsteps/GiantSteps_v2.xlsx'\u001b[0m\u001b[0;34m)\u001b[0m\u001b[0;34m\u001b[0m\u001b[0m\n\u001b[0m\u001b[1;32m      3\u001b[0m \u001b[0;34m\u001b[0m\u001b[0m\n\u001b[1;32m      4\u001b[0m \u001b[0;31m# filter items from GS+\u001b[0m\u001b[0;34m\u001b[0m\u001b[0;34m\u001b[0m\u001b[0m\n\u001b[1;32m      5\u001b[0m \u001b[0md\u001b[0m \u001b[0;34m=\u001b[0m \u001b[0md_raw\u001b[0m\u001b[0;34m[\u001b[0m\u001b[0md_raw\u001b[0m\u001b[0;34m[\u001b[0m\u001b[0;34m'*'\u001b[0m\u001b[0;34m]\u001b[0m\u001b[0;34m==\u001b[0m\u001b[0;34m'+'\u001b[0m\u001b[0;34m]\u001b[0m\u001b[0;34m\u001b[0m\u001b[0m\n",
      "\u001b[0;31mNameError\u001b[0m: name 'pd' is not defined"
     ]
    }
   ],
   "source": [
    "# load data\n",
    "d_raw = pd.read_excel('/Users/angel/Insync/Datasets/giantsteps/GiantSteps_v2.xlsx')\n",
    "\n",
    "# filter items from GS+\n",
    "d = d_raw[d_raw['*']=='+']\n",
    "\n",
    "# and leave out unused fields\n",
    "#d = d.filter(['id','key_v1','tonic:notes1', 'label1'])"
   ]
  },
  {
   "cell_type": "code",
   "execution_count": 5,
   "metadata": {
    "collapsed": true
   },
   "outputs": [],
   "source": [
    "hepta = d[d.car1==7]"
   ]
  },
  {
   "cell_type": "code",
   "execution_count": 45,
   "metadata": {
    "collapsed": true
   },
   "outputs": [],
   "source": [
    "ph = d[d.pcset1.str.contains('0, 2, 3,')==True]"
   ]
  },
  {
   "cell_type": "code",
   "execution_count": 46,
   "metadata": {},
   "outputs": [
    {
     "data": {
      "text/plain": [
       "[0, 2, 3, 5, 7, 8, 10]           122\n",
       "[0, 2, 3, 5, 7, 10]               29\n",
       "[0, 2, 3, 5, 7, 9, 10]            22\n",
       "[0, 2, 3, 5, 7, 8, 10, 11]        13\n",
       "[0, 2, 3, 5, 7, 8]                 7\n",
       "[0, 2, 3, 5, 6, 7, 8, 10]          7\n",
       "[0, 2, 3, 7, 8, 10]                6\n",
       "[0, 2, 3, 7, 10]                   5\n",
       "[0, 2, 3, 5, 6, 7, 9, 10]          4\n",
       "[0, 2, 3, 5, 7, 8, 9, 10]          4\n",
       "[0, 2, 3, 5, 7, 8, 9, 10, 11]      3\n",
       "[0, 2, 3, 4, 5, 7, 8, 10]          3\n",
       "[0, 2, 3, 4, 5, 7, 9, 10]          3\n",
       "[0, 2, 3, 5, 7]                    3\n",
       "[0, 2, 3, 7, 9, 10]                2\n",
       "[0, 2, 3, 7]                       2\n",
       "[0, 2, 3, 7, 8, 10, 11]            2\n",
       "[0, 2, 3, 5, 6, 7, 9, 10, 11]      2\n",
       "[0, 2, 3, 4, 5, 7, 8, 9, 10]       2\n",
       "[0, 2, 3, 4, 5, 7, 8]              2\n",
       "[0, 2, 3, 4, 5, 7, 10, 11]         1\n",
       "[0, 2, 3, 7, 8, 8, 10]             1\n",
       "[0, 2, 3, 5, 8, 9, 10]             1\n",
       "[0, 2, 3, 6, 7, 9, 10]             1\n",
       "[0, 2, 3, 4, 5, 6, 7, 9, 11]       1\n",
       "[0, 2, 3, 5, 7, 9, 11]             1\n",
       "[0, 2, 3, 4, 6, 7, 9, 10, 11]      1\n",
       "[0, 2, 3, 4, 7, 10]                1\n",
       "[0, 2, 3, 5, 7, 11]                1\n",
       "[0, 2, 3, 7, 8]                    1\n",
       "[0, 2, 3, 4, 7, 9, 10]             1\n",
       "[0, 2, 3, 5, 7, 9]                 1\n",
       "[0, 2, 3, 5, 6, 7, 8]              1\n",
       "[0, 2, 3, 4, 5, 7, 10]             1\n",
       "[0, 2, 3, 10]                      1\n",
       "[0, 2, 3, 5, 7, 9, 10, 11]         1\n",
       "[0, 2, 3, 6, 7, 10]                1\n",
       "[0, 2, 3, 4, 5, 7, 9, 11]          1\n",
       "Name: pcset1, dtype: int64"
      ]
     },
     "execution_count": 46,
     "metadata": {},
     "output_type": "execute_result"
    }
   ],
   "source": [
    "ph.pcset1.value_counts()"
   ]
  },
  {
   "cell_type": "code",
   "execution_count": 44,
   "metadata": {},
   "outputs": [
    {
     "data": {
      "text/plain": [
       "[0, 1, 3, 5, 7, 8, 10]              9\n",
       "[0, 1, 3, 5, 7, 10]                 2\n",
       "[0, 1, 3, 5, 6, 7, 8, 9, 10, 11]    2\n",
       "[0, 1, 3, 4, 5, 7, 8, 10]           2\n",
       "[0, 1, 3, 5, 7, 8]                  2\n",
       "[0, 1, 3, 5, 7, 9]                  1\n",
       "[0, 1, 3, 4, 5, 7, 8, 11]           1\n",
       "[0, 1, 3, 5, 6, 7]                  1\n",
       "[0, 1, 3, 5, 6, 7, 10]              1\n",
       "[0, 1, 3, 5, 10]                    1\n",
       "[0, 1, 3, 5, 7, 9, 10]              1\n",
       "[0, 1, 3, 5, 7]                     1\n",
       "[0, 1, 3, 4, 6, 7, 8, 9, 11]        1\n",
       "[0, 1, 3, 7, 8, 10]                 1\n",
       "[0, 1, 3, 4, 5, 7, 8, 9, 10]        1\n",
       "[0, 1, 3, 6, 7, 8, 9]               1\n",
       "[0, 1, 3, 5, 6, 7, 8, 10, 11]       1\n",
       "[0, 1, 3, 5, 7, 8, 10, 11]          1\n",
       "Name: pcset1, dtype: int64"
      ]
     },
     "execution_count": 44,
     "metadata": {},
     "output_type": "execute_result"
    }
   ],
   "source": [
    "ph.pcset1.value_counts()"
   ]
  },
  {
   "cell_type": "code",
   "execution_count": null,
   "metadata": {
    "collapsed": true
   },
   "outputs": [],
   "source": []
  }
 ],
 "metadata": {
  "kernelspec": {
   "display_name": "Python 2",
   "language": "python",
   "name": "python2"
  }
 },
 "nbformat": 4,
 "nbformat_minor": 2
}
