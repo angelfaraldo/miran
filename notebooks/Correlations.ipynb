{
 "cells": [
  {
   "cell_type": "code",
   "execution_count": 1,
   "metadata": {
    "collapsed": true
   },
   "outputs": [],
   "source": [
    "from miran import *"
   ]
  },
  {
   "cell_type": "code",
   "execution_count": null,
   "metadata": {
    "collapsed": true
   },
   "outputs": [],
   "source": []
  },
  {
   "cell_type": "code",
   "execution_count": null,
   "metadata": {
    "collapsed": true
   },
   "outputs": [],
   "source": []
  },
  {
   "cell_type": "code",
   "execution_count": null,
   "metadata": {
    "collapsed": true
   },
   "outputs": [],
   "source": []
  },
  {
   "cell_type": "code",
   "execution_count": null,
   "metadata": {
    "collapsed": true
   },
   "outputs": [],
   "source": []
  },
  {
   "cell_type": "code",
   "execution_count": 234,
   "metadata": {
    "collapsed": true
   },
   "outputs": [],
   "source": [
    "a = np.array([1, 0, 0, 0, 0, 0, 0, 1, 0, 0, 0, 0])"
   ]
  },
  {
   "cell_type": "code",
   "execution_count": 235,
   "metadata": {
    "collapsed": true
   },
   "outputs": [],
   "source": [
    "candidates=3"
   ]
  },
  {
   "cell_type": "code",
   "execution_count": 236,
   "metadata": {},
   "outputs": [
    {
     "data": {
      "text/plain": [
       "-3"
      ]
     },
     "execution_count": 236,
     "metadata": {},
     "output_type": "execute_result"
    }
   ],
   "source": [
    "-candidates"
   ]
  },
  {
   "cell_type": "code",
   "execution_count": 296,
   "metadata": {},
   "outputs": [],
   "source": [
    "def _key2(pcp, profile_type='bgate', interpolation='linear', candidates=3, conf_thres=0.0):\n",
    "    \n",
    "    key_templates = {\n",
    "\n",
    "        'bgate': np.array([[1., 0.00, 0.42, 0.00, 0.53, 0.37, 0.00, 0.77, 0.00, 0.38, 0.21, 0.30],\n",
    "                           [1., 0.00, 0.36, 0.39, 0.00, 0.38, 0.00, 0.74, 0.27, 0.00, 0.42, 0.23]]),\n",
    "\n",
    "        # almost identical to bgate. kept for backwards compatibility\n",
    "        'bmtg3': np.array([[1.00, 0.00, 0.42, 0.00, 0.53, 0.37, 0.00, 0.76, 0.00, 0.38, 0.21, 0.30],\n",
    "                           [1.00, 0.00, 0.36, 0.39, 0.10, 0.37, 0.00, 0.76, 0.27, 0.00, 0.42, 0.23]]),\n",
    "\n",
    "        'bmtg2': np.array([[1.00, 0.10, 0.42, 0.10, 0.53, 0.37, 0.10, 0.77, 0.10, 0.38, 0.21, 0.30],\n",
    "                           [1.00, 0.10, 0.36, 0.39, 0.29, 0.38, 0.10, 0.74, 0.27, 0.10, 0.42, 0.23]]),\n",
    "\n",
    "        # was originally bmtg1\n",
    "        'braw': np.array([[1., 0.1573, 0.4200, 0.1570, 0.5296, 0.3669, 0.1632, 0.7711, 0.1676, 0.3827, 0.2113, 0.2965],\n",
    "                          [1., 0.2330, 0.3615, 0.3905, 0.2925, 0.3777, 0.1961, 0.7425, 0.2701, 0.2161, 0.4228, 0.2272]]),\n",
    "\n",
    "        'diatonic': np.array([[1, 0, 1, 0, 1, 1, 0, 1, 0, 1, 0, 1],\n",
    "                              [1, 0, 1, 1, 0, 1, 0, 1, 1, 0, 0, 1]]),\n",
    "\n",
    "        'monotonic': np.array([[1, 0, 0, 0, 0, 0, 0, 0, 0, 0, 0, 0],\n",
    "                               [1, 0, 0, 0, 0, 0, 0, 1, 0, 0, 0, 0]]),\n",
    "\n",
    "        'triads': np.array([[1, 0, 0, 0, 1, 0, 0, 1, 0, 0, 0, 0],\n",
    "                            [1, 0, 0, 1, 0, 0, 0, 1, 0, 0, 0, 0]]),\n",
    "\n",
    "        'edma_ecir': np.array([[0.16519551, 0.04749026, 0.08293076, 0.06687112, 0.09994645, 0.09274123, 0.05294487, 0.13159476, 0.05218986,\n",
    "                                0.07443653, 0.06940723, 0.0642515],\n",
    "                               [0.17235348, 0.05336489, 0.0761009, 0.10043649, 0.05621498, 0.08527853, 0.0497915, 0.13451001, 0.07458916, 0.05003023,\n",
    "                                0.09187879, 0.05545106]]),\n",
    "\n",
    "        'edmm_ecir': np.array([[0.083, 0.083, 0.083, 0.083, 0.083, 0.083, 0.083, 0.083, 0.083, 0.083, 0.083, 0.083],\n",
    "                               [0.17235348, 0.04, 0.0761009, 0.12, 0.05621498, 0.08527853, 0.0497915, 0.13451001, 0.07458916, 0.05003023, 0.09187879,\n",
    "                                0.05545106]]),\n",
    "\n",
    "        'edma': np.array([[1., 0.2875, 0.5020, 0.4048, 0.6050, 0.5614, 0.3205, 0.7966, 0.3159, 0.4506, 0.4202, 0.3889],\n",
    "                          [1., 0.3096, 0.4415, 0.5827, 0.3262, 0.4948, 0.2889, 0.7804, 0.4328, 0.2903, 0.5331, 0.3217]]),\n",
    "\n",
    "        'edmm': np.array([[1., 1.0000, 1.0000, 1.0000, 1.0000, 1.0000, 1.0000, 1.0000, 1.0000, 1.0000, 1.0000, 1.0000],\n",
    "                          [1., 0.2321, 0.4415, 0.6962, 0.3262, 0.4948, 0.2889, 0.7804, 0.4328, 0.2903, 0.5331, 0.3217]]),\n",
    "\n",
    "        'krumhansl': np.array([[6.35, 2.23, 3.48, 2.33, 4.38, 4.09, 2.52, 5.19, 2.39, 3.66, 2.29, 2.88],\n",
    "                               [6.33, 2.68, 3.52, 5.38, 2.60, 3.53, 2.54, 4.75, 3.98, 2.69, 3.34, 3.17]]),\n",
    "\n",
    "        'temperley99': np.array([[5.0, 2.0, 3.5, 2.0, 4.5, 4.0, 2.0, 4.5, 2.0, 3.5, 1.5, 4.0],\n",
    "                                 [5.0, 2.0, 3.5, 4.5, 2.0, 4.0, 2.0, 4.5, 3.5, 2.0, 1.5, 4.0]]),\n",
    "\n",
    "        'temperley05': np.array([[0.748, 0.060, 0.488, 0.082, 0.67, 0.46, 0.096, 0.715, 0.104, 0.366, 0.057, 0.4],\n",
    "                                 [0.712, 0.084, 0.474, 0.618, 0.049, 0.46, 0.105, 0.747, 0.404, 0.067, 0.133, 0.33]]),\n",
    "\n",
    "        'temperley-essen': np.array([[0.184, 0.001, 0.155, 0.003, 0.191, 0.109, 0.005, 0.214, 0.001, 0.078, 0.004, 0.055],\n",
    "                                     [0.192, 0.005, 0.149, 0.179, 0.002, 0.144, 0.002, 0.201, 0.038, 0.012, 0.053, 0.022]]),\n",
    "\n",
    "        'thpcp': np.array([[0.95162, 0.20742, 0.71758, 0.22007, 0.71341, 0.48841, 0.31431, 1.00000, 0.20957, 0.53657, 0.22585, 0.55363],\n",
    "                           [0.94409, 0.21742, 0.64525, 0.63229, 0.27897, 0.57709, 0.26428, 1.0000, 0.26428, 0.30633, 0.45924, 0.35929]]),\n",
    "\n",
    "        'shaath': np.array([[6.6, 2.0, 3.5, 2.3, 4.6, 4.0, 2.5, 5.2, 2.4, 3.7, 2.3, 3.4],\n",
    "                            [6.5, 2.7, 3.5, 5.4, 2.6, 3.5, 2.5, 5.2, 4.0, 2.7, 4.3, 3.2]]),\n",
    "\n",
    "        'gomez': np.array([[0.82, 0.00, 0.55, 0.00, 0.53, 0.30, 0.08, 1.00, 0.00, 0.38, 0.00, 0.47],\n",
    "                           [0.81, 0.00, 0.53, 0.54, 0.00, 0.27, 0.07, 1.00, 0.27, 0.07, 0.10, 0.36]]),\n",
    "\n",
    "        'faraldo': np.array([[7.0, 2.0, 3.8, 2.3, 4.7, 4.1, 2.5, 5.2, 2.0, 3.7, 3.0, 3.4],\n",
    "                             [7.0, 3.0, 3.8, 4.5, 2.6, 3.5, 2.5, 5.2, 4.0, 2.5, 4.5, 3.0]]),\n",
    "\n",
    "        'pentatonic': np.array([[1.0, 0.1, 0.25, 0.1, 0.5, 0.7, 0.1, 0.8, 0.1, 0.25, 0.1, 0.5],\n",
    "                                [1.0, 0.2, 0.25, 0.5, 0.1, 0.7, 0.1, 0.8, 0.3, 0.2, 0.6, 0.2]]),\n",
    "\n",
    "        'noland': np.array([[0.0629, 0.0146, 0.061, 0.0121, 0.0623, 0.0414, 0.0248, 0.0631, 0.015, 0.0521, 0.0142, 0.0478],\n",
    "                            [0.0682, 0.0138, 0.0543, 0.0519, 0.0234, 0.0544, 0.0176, 0.067, 0.0349, 0.0297, 0.0401, 0.027]])\n",
    "    }\n",
    "\n",
    "    if (pcp.size < 12) or (pcp.size % 12 != 0):\n",
    "        raise IndexError(\"Input PCP size is not a positive multiple of 12\")\n",
    "\n",
    "    _key_profiles = _select_profile_type(profile_type, key_templates)\n",
    "\n",
    "    #if _key_profiles[0].size > pcp.size:\n",
    "    #    pcp = resize_vector(pcp, _key_profiles[0].size)\n",
    "\n",
    "#    if _key_profiles[0].size < pcp.size:\n",
    "#        _major = resize_vector(_major, pcp.size, interpolation)\n",
    "#        _minor = resize_vector(_minor, pcp.size, interpolation)\n",
    "\n",
    "    corr_values = []\n",
    "    \n",
    "    for profile in _key_profiles:\n",
    "        for shift in np.arange(pcp.size):\n",
    "            corr_values.append(crosscorrelation(pcp, np.roll(profile, shift)))\n",
    "        \n",
    "    corr_indexes = np.argpartition(corr_values, -candidates)[-candidates:]\n",
    "    \n",
    "    keys = []\n",
    "    #keys_tonics = []\n",
    "    #keys_modes = []\n",
    "    keys_confidences = []\n",
    "    \n",
    "    for index in corr_indexes[::-1]:\n",
    "        #tonic, mode = int_to_key(index).split()\n",
    "        #keys_tonics.append(tonic)\n",
    "        #keys_modes.append(mode)\n",
    "        keys.append(int_to_key(index))\n",
    "        keys_confidences.append(corr_values[index])\n",
    "        \n",
    "    first_to_second_ratio = (corr_values[0] - corr_values[1])# / corr_values[0]\n",
    "    \n",
    "    #if corr_values[0] < conf_thres:\n",
    "    #     return 'X', corr_values[0], first_to_second_ratio\n",
    "        # TODO: si la confidencia es relativaente alta pero hay muchos candidatos posiblemente sea atonical\n",
    "        # TODO: si la confidencia es baja y hay pocos candidatos posiblemente sea unpitched\n",
    "    if np.mean(keys_confidences - corr_values[0]) < 0.1:\n",
    "        print(\"Too many key Candidates, random result\")\n",
    "    return keys[0], keys, keys_confidences, first_to_second_ratio\n"
   ]
  },
  {
   "cell_type": "code",
   "execution_count": 297,
   "metadata": {},
   "outputs": [
    {
     "data": {
      "text/plain": [
       "('C minor',\n",
       " ['C minor', 'Ab major', 'C major'],\n",
       " [0.75237000023604739, 0.58884081185231085, 0.47531264359903036],\n",
       " 0.33943881220761907)"
      ]
     },
     "execution_count": 297,
     "metadata": {},
     "output_type": "execute_result"
    }
   ],
   "source": [
    "_key2(dos)"
   ]
  },
  {
   "cell_type": "code",
   "execution_count": 298,
   "metadata": {
    "collapsed": true
   },
   "outputs": [],
   "source": [
    "dos = np.array([1.0, 0.50484222, 0.51323342, 0.61255014, 0.47860181, 0.50200993, 0.47810224, 0.70709425, 0.80581236, 0.42468768, 0.42411175, 0.51878595])"
   ]
  },
  {
   "cell_type": "code",
   "execution_count": 299,
   "metadata": {},
   "outputs": [
    {
     "data": {
      "text/plain": [
       "array([ 1.        ,  0.50484222,  0.51323342,  0.61255014,  0.47860181,\n",
       "        0.50200993,  0.47810224,  0.70709425,  0.80581236,  0.42468768,\n",
       "        0.42411175,  0.51878595])"
      ]
     },
     "execution_count": 299,
     "metadata": {},
     "output_type": "execute_result"
    }
   ],
   "source": [
    "dos"
   ]
  },
  {
   "cell_type": "code",
   "execution_count": null,
   "metadata": {
    "collapsed": true
   },
   "outputs": [],
   "source": []
  }
 ],
 "metadata": {
  "kernelspec": {
   "display_name": "Python 2",
   "language": "python",
   "name": "python2"
  },
  "language_info": {
   "codemirror_mode": {
    "name": "ipython",
    "version": 2
   },
   "file_extension": ".py",
   "mimetype": "text/x-python",
   "name": "python",
   "nbconvert_exporter": "python",
   "pygments_lexer": "ipython2",
   "version": "2.7.14"
  }
 },
 "nbformat": 4,
 "nbformat_minor": 2
}
