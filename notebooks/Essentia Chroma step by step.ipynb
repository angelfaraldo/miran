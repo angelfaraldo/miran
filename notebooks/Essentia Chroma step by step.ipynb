{
 "cells": [
  {
   "cell_type": "code",
   "execution_count": null,
   "metadata": {
    "collapsed": true
   },
   "outputs": [],
   "source": [
    "%matplotlib inline\n",
    "\n",
    "import essentia.standard as estd\n",
    "from miran.plots import *\n",
    "from miran import *\n",
    "import librosa\n",
    "import madmom\n",
    "import numpy as np\n",
    "import scipy\n",
    "from sklearn.preprocessing import binarize"
   ]
  },
  {
   "cell_type": "code",
   "execution_count": null,
   "metadata": {},
   "outputs": [],
   "source": [
    "# SELECT A RANDOM TRACK TO ANALYSE\n",
    "d = '/Users/angel/Insync/datasets/bmtg2/dataset'\n",
    "f = return_random_track(d, ext=\".wav\")\n",
    "show_in_finder(f)\n",
    "print(f)"
   ]
  },
  {
   "cell_type": "code",
   "execution_count": null,
   "metadata": {
    "collapsed": true
   },
   "outputs": [],
   "source": [
    "KEY_SETTINGS = {\"SAMPLE_RATE\": 44100,\n",
    "                \"WINDOW_SIZE\": 16384,\n",
    "                \"HOP_SIZE\": 2048,\n",
    "                \"WINDOW_SHAPE\": \"hann\",\n",
    "                \"PCP_THRESHOLD\": 0,\n",
    "                \"MIN_HZ\": 25,\n",
    "                \"MAX_HZ\": 3500,\n",
    "                \"SPECTRAL_PEAKS_THRESHOLD\": 0.0001,\n",
    "                \"SPECTRAL_PEAKS_MAX\": 60,\n",
    "\n",
    "                \"HPCP_BAND_PRESET\": False,\n",
    "                \"HPCP_SPLIT_HZ\": 250,\n",
    "                \"HPCP_HARMONICS\": 4,\n",
    "                \"HPCP_REFERENCE_HZ\": 440,\n",
    "                \"HPCP_NON_LINEAR\": False,\n",
    "                \"HPCP_NORMALIZE\": \"unitSum\",\n",
    "                \"HPCP_SHIFT\": False,\n",
    "                \"HPCP_SIZE\": 36,\n",
    "                \"HPCP_WEIGHT_WINDOW_SEMITONES\": 3,\n",
    "                \"HPCP_WEIGHT_TYPE\": \"cosine\"}"
   ]
  },
  {
   "cell_type": "code",
   "execution_count": null,
   "metadata": {},
   "outputs": [],
   "source": [
    "import math\n",
    "25.0 * math.pow(2.,7.)"
   ]
  },
  {
   "cell_type": "code",
   "execution_count": null,
   "metadata": {},
   "outputs": [],
   "source": [
    "3200/np.log2(25)"
   ]
  },
  {
   "cell_type": "code",
   "execution_count": null,
   "metadata": {
    "collapsed": true
   },
   "outputs": [],
   "source": [
    "# LOAD AUDIO FILE\n",
    "sig = madmom.audio.signal.Signal(f, sample_rate=KEY_SETTINGS[\"SAMPLE_RATE\"], num_channels=1, dtype=\"float32\")"
   ]
  },
  {
   "cell_type": "code",
   "execution_count": null,
   "metadata": {},
   "outputs": [],
   "source": [
    "cut = estd.FrameCutter(frameSize=KEY_SETTINGS[\"WINDOW_SIZE\"], hopSize=KEY_SETTINGS[\"HOP_SIZE\"])\n",
    "\n",
    "window = estd.Windowing(size=KEY_SETTINGS[\"WINDOW_SIZE\"])\n",
    "\n",
    "rfft = estd.Spectrum(size=KEY_SETTINGS[\"WINDOW_SIZE\"])\n",
    "\n",
    "speaks = estd.SpectralPeaks(magnitudeThreshold=KEY_SETTINGS[\"SPECTRAL_PEAKS_THRESHOLD\"],\n",
    "                            maxFrequency=KEY_SETTINGS[\"MAX_HZ\"],\n",
    "                            minFrequency=KEY_SETTINGS[\"MIN_HZ\"],\n",
    "                            maxPeaks=KEY_SETTINGS[\"SPECTRAL_PEAKS_MAX\"],\n",
    "                            sampleRate=KEY_SETTINGS[\"SAMPLE_RATE\"])\n",
    "\n",
    "hpcp = estd.HPCP(bandPreset=KEY_SETTINGS[\"HPCP_BAND_PRESET\"],\n",
    "                 bandSplitFrequency=KEY_SETTINGS[\"HPCP_SPLIT_HZ\"],\n",
    "                 harmonics=KEY_SETTINGS[\"HPCP_HARMONICS\"],\n",
    "                 maxFrequency=KEY_SETTINGS[\"MAX_HZ\"],\n",
    "                 minFrequency=KEY_SETTINGS[\"MIN_HZ\"],\n",
    "                 nonLinear=KEY_SETTINGS[\"HPCP_NON_LINEAR\"],\n",
    "                 normalized=KEY_SETTINGS[\"HPCP_NORMALIZE\"],\n",
    "                 referenceFrequency=KEY_SETTINGS[\"HPCP_REFERENCE_HZ\"],\n",
    "                 sampleRate=KEY_SETTINGS[\"SAMPLE_RATE\"],\n",
    "                 size=KEY_SETTINGS[\"HPCP_SIZE\"],\n",
    "                 weightType=KEY_SETTINGS[\"HPCP_WEIGHT_TYPE\"],\n",
    "                 windowSize=KEY_SETTINGS[\"HPCP_WEIGHT_WINDOW_SEMITONES\"],\n",
    "                 maxShifted=KEY_SETTINGS[\"HPCP_SHIFT\"])\n",
    "\n",
    "duration = len(sig)\n",
    "chroma = []\n",
    "\n",
    "n_slices = int(1 + (duration / KEY_SETTINGS[\"HOP_SIZE\"]))\n",
    "for slice_n in range(n_slices):\n",
    "    spek = rfft(window(cut(sig)))\n",
    "    p1, p2 = speaks(spek)\n",
    "    #if KEY_SETTINGS[\"SPECTRAL_WHITENING\"]:\n",
    "    #    p2 = sw(spek, p1, p2)\n",
    "    pcp = hpcp(p1, p2)\n",
    "    chroma.append(pcp)\n",
    "    \n",
    "    \n",
    "    \n",
    "cr_ess = chroma = np.roll(chroma, -3 * (KEY_SETTINGS[\"HPCP_SIZE\"] // 12)).T\n",
    "\n",
    "plot_chroma(cr_ess, \"essentia\")"
   ]
  },
  {
   "cell_type": "code",
   "execution_count": null,
   "metadata": {
    "scrolled": false
   },
   "outputs": [],
   "source": [
    "# use no less than three bins per semitone in order to be able to correct detuning\n",
    "chroma_os = librosa.feature.chroma_cqt(y=np.array(sig), \n",
    "                                       sr=KEY_SETTINGS[\"SAMPLE_RATE\"], \n",
    "                                       hop_length=KEY_SETTINGS[\"HOP_SIZE\"], \n",
    "                                       fmin=KEY_SETTINGS[\"MIN_HZ\"]\n",
    "                                       norm=np.inf,\n",
    "                                       \n",
    "#                                       n_octaves=\n",
    "                                       tuning=KEY_SETTINGS[\"HPCP_REFERENCE_HZ\"]\n",
    "                                       threshold=KEY_SETTINGS[\"PCP_THRESHOLD\"], \n",
    "                                       bins_per_octave=KEY_SETTINGS[\"HPCP_SIZE\"],\n",
    "                                       n_chroma=KEY_SETTINGS[\"HPCP_SIZE\"],\n",
    "                                       #window=None\n",
    "                                       cqt_mode=\"full\")\n",
    "\n",
    "plot_chroma(chroma_os, \"librosa\")\n",
    "\n",
    "# add all other parameters!\n",
    "# librosa.feature.chroma_cqt(C=None,  n_octaves=7,"
   ]
  },
  {
   "cell_type": "code",
   "execution_count": null,
   "metadata": {
    "collapsed": true
   },
   "outputs": [],
   "source": []
  }
 ],
 "metadata": {
  "kernelspec": {
   "display_name": "Python 2",
   "language": "python",
   "name": "python2"
  },
  "language_info": {
   "codemirror_mode": {
    "name": "ipython",
    "version": 2
   },
   "file_extension": ".py",
   "mimetype": "text/x-python",
   "name": "python",
   "nbconvert_exporter": "python",
   "pygments_lexer": "ipython2",
   "version": "2.7.14"
  }
 },
 "nbformat": 4,
 "nbformat_minor": 1
}
