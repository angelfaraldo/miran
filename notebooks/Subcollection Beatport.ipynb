{
 "cells": [
  {
   "cell_type": "markdown",
   "metadata": {},
   "source": [
    "From the beatport collection I could select a few items very well curated, with at least the 4 labels that we had created, major, minor, other, no-key.... but also monotonic, perhaps even diatonic modes... tritones etc.. A grouping per subgenres could be a good idea to narrow the list of tracks, on the one hand... use the cleanest profiles... or why not all of them!!!!!!\n",
    "Minimal\n",
    "Techno\n",
    "Breaks\n",
    "Drum and Bass\n",
    "Dubstep\n",
    "House\n",
    "Tech House\n",
    "Deep House\n",
    "Trance\n",
    "Electronica\n"
   ]
  },
  {
   "cell_type": "code",
   "execution_count": 1,
   "metadata": {
    "collapsed": true
   },
   "outputs": [],
   "source": [
    "from miran import *"
   ]
  },
  {
   "cell_type": "code",
   "execution_count": null,
   "metadata": {},
   "outputs": [],
   "source": [
    "def copy_files_in_pddf(pd_col_with_filename, output_dir, ext=None:\n",
    "    \"\"\"\n",
    "    Copy a row from a Pandas dataframe to a different location in the hard drive.\n",
    "    This function assumes that each row represents a file in the filesystem and that\n",
    "    its filepath is the index of the row.\n",
    "\n",
    "    \"\"\"\n",
    "    if not os.path.isdir(output_dir):\n",
    "        output_dir = create_dir(output_dir)\n",
    "\n",
    "    for row in pd_col_with_filename:\n",
    "        print row\n",
    "        for extension in ext:\n",
    "            print(row)\n",
    "            print(os.path.split(row)[1])\n",
    "\n",
    "            print(ext)\n",
    "            output_file = os.path.join(output_dir, os.path.split(row)[1])\n",
    "            print('s', output_file)\n",
    "            print(\"copying '{}' to '{}'\".format(row, output_file))\n",
    "            shutil.copyfile(row, output_file)"
   ]
  },
  {
   "cell_type": "code",
   "execution_count": 7,
   "metadata": {},
   "outputs": [
    {
     "data": {
      "text/plain": [
       "'/Users/angel/Insync/datasets/beatport/audio/C2/7217 Made By Monkeys - I Try (Salatore & Focus Remix)'"
      ]
     },
     "execution_count": 7,
     "metadata": {},
     "output_type": "execute_result"
    }
   ],
   "source": [
    "d.filename[2]"
   ]
  },
  {
   "cell_type": "code",
   "execution_count": 8,
   "metadata": {},
   "outputs": [],
   "source": [
    "# abspath with audio files\n",
    "beatport_files = folderfiles('/Users/angel/Insync/datasets/beatport/audio/', ext='.mp3', recursive=True)\n",
    "\n",
    "# original excel file with annotations\n",
    "d = pd.read_excel('/Users/angel/Insync/datasets/beatport/beatport_v2.xlsx')\n",
    "\n",
    "# append a new column with the filepath to the dataframe\n",
    "filepath_to_pdcol(d, beatport_files, filename_only=False, remove_extension=True)"
   ]
  },
  {
   "cell_type": "code",
   "execution_count": 6,
   "metadata": {},
   "outputs": [
    {
     "data": {
      "text/plain": [
       "'/Users/angel/Insync/datasets/beatport/audio/C2/7217 Made By Monkeys - I Try (Salatore & Focus Remix)'"
      ]
     },
     "execution_count": 6,
     "metadata": {},
     "output_type": "execute_result"
    }
   ],
   "source": [
    "d.filename[2]"
   ]
  },
  {
   "cell_type": "code",
   "execution_count": null,
   "metadata": {
    "collapsed": true
   },
   "outputs": [],
   "source": [
    "# DROP EMPTY FIELDS\n",
    "sd = d[d.eduard.isnull() == False]\n",
    "\n",
    "# DROP A FEW GENRES!\n",
    "sd = sd[sd.genres != 'Hard Dance']\n",
    "sd = sd[sd.genres != 'Progressive House']\n",
    "sd = sd[sd.genres != 'Psy-Trance']\n",
    "sd = sd[sd.genres != 'Hip-Hop / R&B']"
   ]
  },
  {
   "cell_type": "code",
   "execution_count": null,
   "metadata": {},
   "outputs": [],
   "source": [
    "# to copy the files onto a new folder for further inspection:\n",
    "copy_files_in_pddf(sd.filename, '/Users/angel/Desktop/subbeatport', ext='.mp3')"
   ]
  },
  {
   "cell_type": "code",
   "execution_count": null,
   "metadata": {},
   "outputs": [],
   "source": [
    "# remove path from columns to save visual space\n",
    "sd.drop(['filename'], inplace=True)"
   ]
  },
  {
   "cell_type": "code",
   "execution_count": null,
   "metadata": {},
   "outputs": [],
   "source": [
    "d.filename[0]"
   ]
  },
  {
   "cell_type": "code",
   "execution_count": null,
   "metadata": {
    "collapsed": true
   },
   "outputs": [],
   "source": []
  },
  {
   "cell_type": "code",
   "execution_count": null,
   "metadata": {
    "collapsed": true
   },
   "outputs": [],
   "source": [
    "# and save dataframes onto new excel sheet! \n",
    "df_to_excel(sd, '/Users/angel/Desktop/test_excel.xlsx')"
   ]
  }
 ],
 "metadata": {
  "kernelspec": {
   "display_name": "Python 3",
   "language": "python",
   "name": "python3"
  },
  "language_info": {
   "codemirror_mode": {
    "name": "ipython",
    "version": 2
   },
   "file_extension": ".py",
   "mimetype": "text/x-python",
   "name": "python",
   "nbconvert_exporter": "python",
   "pygments_lexer": "ipython2",
   "version": "2.7.14"
  }
 },
 "nbformat": 4,
 "nbformat_minor": 2
}
