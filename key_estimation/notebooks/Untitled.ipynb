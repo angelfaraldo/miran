{
 "cells": [
  {
   "cell_type": "code",
   "execution_count": 1,
   "metadata": {
    "collapsed": true
   },
   "outputs": [],
   "source": [
    "# File Settings\n",
    "# -------------\n",
    "SAMPLE_RATE                  = 44100\n",
    "VALID_FILE_TYPES             = {'.wav', '.mp3', 'flac', '.aiff', '.ogg'}\n",
    "\n",
    "# Analysis Parameters\n",
    "# -------------------\n",
    "DETUNING_CORRECTION          = False\n",
    "PCP_THRESHOLD                = None\n",
    "WINDOW_SIZE                  = 4096\n",
    "HOP_SIZE                     = 4096\n",
    "WINDOW_SHAPE                 = 'hann'\n",
    "MIN_HZ                       = 27.5 # A-1\n",
    "MAX_HZ                       = 3500 # 7 octavas\n",
    "HPCP_SIZE                    = 12\n",
    "HPCP_REFERENCE_HZ            = 440\n",
    "HPCP_WEIGHT_WINDOW_SEMITONES = 1  # semitones\n",
    "HPCP_WEIGHT_TYPE             = 'cosine'  # {'none', 'cosine', 'squaredCosine'}\n",
    "\n",
    "# Scope and Key Detector Method\n",
    "# -----------------------------\n",
    "DURATION                     = None  # analyse first n seconds of each track (None = full track)\n",
    "OFFSET                       = 0\n",
    "ANALYSIS_TYPE                = 'global'  # {'local', 'global'}\n",
    "N_WINDOWS                    = 100  # if ANALYSIS_TYPE is 'local'\n",
    "WINDOW_INCREMENT             = 100  # if ANALYSIS_TYPE is 'local'\n",
    "KEY_PROFILE                  = 'krumhansl'\n",
    "USE_THREE_PROFILES           = False\n",
    "WITH_MODAL_DETAILS           = False"
   ]
  },
  {
   "cell_type": "code",
   "execution_count": 5,
   "metadata": {},
   "outputs": [
    {
     "ename": "ModuleNotFoundError",
     "evalue": "No module named '__main__.pcp'; '__main__' is not a package",
     "output_type": "error",
     "traceback": [
      "\u001b[0;31m---------------------------------------------------------------------------\u001b[0m",
      "\u001b[0;31mModuleNotFoundError\u001b[0m                       Traceback (most recent call last)",
      "\u001b[0;32m<ipython-input-5-c37fb97469d9>\u001b[0m in \u001b[0;36m<module>\u001b[0;34m()\u001b[0m\n\u001b[1;32m      2\u001b[0m \u001b[0;32mimport\u001b[0m \u001b[0mmadmom\u001b[0m\u001b[0;34m\u001b[0m\u001b[0m\n\u001b[1;32m      3\u001b[0m \u001b[0;34m\u001b[0m\u001b[0m\n\u001b[0;32m----> 4\u001b[0;31m \u001b[0;32mfrom\u001b[0m \u001b[0;34m.\u001b[0m\u001b[0mpcp\u001b[0m \u001b[0;32mimport\u001b[0m \u001b[0;34m*\u001b[0m\u001b[0;34m\u001b[0m\u001b[0m\n\u001b[0m\u001b[1;32m      5\u001b[0m \u001b[0;32mfrom\u001b[0m \u001b[0mfileutils\u001b[0m \u001b[0;32mimport\u001b[0m \u001b[0;34m*\u001b[0m\u001b[0;34m\u001b[0m\u001b[0m\n\u001b[1;32m      6\u001b[0m \u001b[0;32mfrom\u001b[0m \u001b[0mtemplate_matching\u001b[0m \u001b[0;32mimport\u001b[0m \u001b[0;34m*\u001b[0m\u001b[0;34m\u001b[0m\u001b[0m\n",
      "\u001b[0;31mModuleNotFoundError\u001b[0m: No module named '__main__.pcp'; '__main__' is not a package"
     ]
    }
   ],
   "source": [
    "import sys\n",
    "import madmom\n",
    "\n",
    "from .pcp import *\n",
    "from fileutils import *\n",
    "from template_matching import *"
   ]
  },
  {
   "cell_type": "code",
   "execution_count": null,
   "metadata": {
    "collapsed": true
   },
   "outputs": [],
   "source": []
  }
 ],
 "metadata": {
  "kernelspec": {
   "display_name": "Python 3",
   "language": "python",
   "name": "python3"
  },
  "language_info": {
   "codemirror_mode": {
    "name": "ipython",
    "version": 3
   },
   "file_extension": ".py",
   "mimetype": "text/x-python",
   "name": "python",
   "nbconvert_exporter": "python",
   "pygments_lexer": "ipython3",
   "version": "3.6.0"
  }
 },
 "nbformat": 4,
 "nbformat_minor": 2
}
