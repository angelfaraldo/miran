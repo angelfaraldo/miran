{
 "cells": [
  {
   "cell_type": "code",
   "execution_count": null,
   "metadata": {
    "collapsed": true
   },
   "outputs": [],
   "source": [
    "%matplotlib inline"
   ]
  },
  {
   "cell_type": "code",
   "execution_count": null,
   "metadata": {
    "collapsed": true
   },
   "outputs": [],
   "source": [
    "from __future__ import print_function\n",
    "import numpy as np\n",
    "import scipy\n",
    "import matplotlib.pyplot as plt\n",
    "    \n",
    "import librosa\n",
    "import librosa.display\n",
    "from sklearn.preprocessing import binarize"
   ]
  },
  {
   "cell_type": "code",
   "execution_count": null,
   "metadata": {
    "scrolled": false
   },
   "outputs": [],
   "source": [
    "f = '/Users/angelosx/Insync/midi/HOUSE-BASS/_ANOTADAS/RiemannKollektion-AnalogHouseBasslines1/audio/Riemann Analog Basslines 1 - 02 - jupiter 4 03.wav'\n",
    "\n",
    "y, sr = librosa.load(f, sr=22050, duration=16) # 16 s. corresponds to 8 bars at 120 bpm's.\n",
    "\n",
    "cqth = librosa.feature.chroma_cqt(y=librosa.effects.harmonic(y=y, margin=8), \n",
    "                                  sr=sr,\n",
    "                                  hop_length=256,\n",
    "                                  norm=np.inf,\n",
    "                                  threshold=None,\n",
    "                                  fmin=librosa.note_to_hz('A0'),\n",
    "                                  n_octaves=8,\n",
    "                                  bins_per_octave=36,\n",
    "                                  n_chroma=12,\n",
    "                                  cqt_mode='full')\n",
    "\n",
    "cqthe = np.power(cqth,10)\n",
    "\n",
    "# to remove passing notes and other possible short artifacts\n",
    "cqthef = np.minimum(cqthe, librosa.decompose.nn_filter(cqthe, aggregate=np.median, metric='cosine'))\n",
    "\n",
    "# Local discontinuities and transients can be suppressed by using a horizontal median filter:\n",
    "cqthefs = scipy.ndimage.median_filter(cqthef, size=(1, 9))\n",
    "\n",
    "# we could binarize it... or not.\n",
    "# cqthef = binarize(cqthe, 0.2)\n",
    "\n",
    "\n",
    "# aggregation of vectors\n",
    "# ======================\n",
    "aggregate_all = np.sum(cqthefs, axis=1)\n",
    "scale_all = np.divide(aggregate_all, np.max(aggregate_all))\n",
    "\n",
    "\n",
    "# manipulations on the aggregated vector:\n",
    "# =======================================\n",
    "\n",
    "# sub-arrays with only NON-ZERO elements (in descending order of duration)\n",
    "weights_sorted = np.flip(np.sort(scale_all[scale_all > 0.1]), axis=0)\n",
    "pcs_by_weigth = (np.flip(np.argsort(scale_all), axis=0))[:weights_sorted.size]\n",
    "pcs_ascending = np.sort(pcs_by_weigth)\n",
    "pcs_from_longest = np.roll(pcs_ascending, -1 * np.where(pcs_ascending==pcs_by_weigth[0])[0][0])\n",
    "\n",
    "print('sorted from most frequent: {}, according to weights {}'.format(pcs_by_weigth, weights_sorted))\n",
    "print('sorted in ascending order from pc-0: {}'.format(pcs_ascending))\n",
    "print(pcs_from_longest)\n",
    "\n",
    "\n",
    "# create plots\n",
    "# ============\n",
    "plt.figure(figsize=(20,15))\n",
    "plt.subplot(5,1,1)\n",
    "librosa.display.specshow(cqth, y_axis='chroma')\n",
    "plt.colorbar()\n",
    "plt.ylabel('CQT')\n",
    "\n",
    "plt.subplot(5,1,2)\n",
    "librosa.display.specshow(cqthe, y_axis='chroma')\n",
    "plt.colorbar()\n",
    "plt.ylabel('CQTH^10')\n",
    "plt.tight_layout()\n",
    "\n",
    "plt.subplot(5,1,3)\n",
    "librosa.display.specshow(cqthef, y_axis='chroma')\n",
    "plt.colorbar()\n",
    "plt.ylabel('NON-LOCAL FILTER')\n",
    "plt.tight_layout()\n",
    "\n",
    "plt.subplot(5,1,4)\n",
    "librosa.display.specshow(cqthefs, y_axis='chroma')\n",
    "plt.colorbar()\n",
    "plt.ylabel('SMOOTHING')\n",
    "plt.tight_layout()\n",
    "\n",
    "plt.subplot(5,1,5)\n",
    "ax = plt.gca()\n",
    "ax.plot(scale_all)\n",
    "ax.set_xlabel('PITCH CLASS')\n",
    "ax.set_ylabel('RELATIVE DURATION')\n",
    "plt.tight_layout()"
   ]
  },
  {
   "cell_type": "code",
   "execution_count": null,
   "metadata": {
    "collapsed": true
   },
   "outputs": [],
   "source": []
  }
 ],
 "metadata": {
  "kernelspec": {
   "display_name": "Python 3",
   "language": "python",
   "name": "python3"
  },
  "language_info": {
   "codemirror_mode": {
    "name": "ipython",
    "version": 3
   },
   "file_extension": ".py",
   "mimetype": "text/x-python",
   "name": "python",
   "nbconvert_exporter": "python",
   "pygments_lexer": "ipython3",
   "version": "3.6.1"
  }
 },
 "nbformat": 4,
 "nbformat_minor": 1
}
